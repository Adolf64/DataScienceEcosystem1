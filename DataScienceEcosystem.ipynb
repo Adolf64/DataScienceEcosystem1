{
  "metadata": {
    "kernelspec": {
      "name": "python",
      "display_name": "Python (Pyodide)",
      "language": "python"
    },
    "language_info": {
      "codemirror_mode": {
        "name": "python",
        "version": 3
      },
      "file_extension": ".py",
      "mimetype": "text/x-python",
      "name": "python",
      "nbconvert_exporter": "python",
      "pygments_lexer": "ipython3",
      "version": "3.8"
    }
  },
  "nbformat_minor": 4,
  "nbformat": 4,
  "cells": [
    {
      "cell_type": "markdown",
      "source": "# Data Science Tools and Ecosystem",
      "metadata": {}
    },
    {
      "cell_type": "markdown",
      "source": "In this notebook, Data Science Tools and Ecosystem are summarized",
      "metadata": {}
    },
    {
      "cell_type": "markdown",
      "source": "**Objectives:.**",
      "metadata": {}
    },
    {
      "cell_type": "markdown",
      "source": "* Registro y documentación de experimentos: Los cuadernos de Jupyter permiten a los científicos de datos y analistas documentar y registrar sus experimentos y análisis de datos de manera interactiva.\n* Colaboración y comunicación: Los cuadernos de Jupyter son una herramienta excelente para colaborar y comunicar resultados en equipos de trabajo.\n* Análisis exploratorio de datos: Los cuadernos de Jupyter proporcionan un entorno interactivo para realizar análisis exploratorio de datos.\n* Presentación de resultados: Los cuadernos de Jupyter permiten crear presentaciones interactivas y dinámicas de los resultados del análisis de datos.\n* Enseñanza y aprendizaje: Los cuadernos de Jupyter son una herramienta popular en la enseñanza y el aprendizaje de la ciencia de datos y la programación.",
      "metadata": {}
    },
    {
      "cell_type": "markdown",
      "source": "Some of the popular languages that Data Scientists use are:",
      "metadata": {}
    },
    {
      "cell_type": "markdown",
      "source": "* 1 Python\n* 2 R\n* 3 SQL",
      "metadata": {}
    },
    {
      "cell_type": "markdown",
      "source": "Some of the commonly used libraries used by Data Scientists include:",
      "metadata": {}
    },
    {
      "cell_type": "markdown",
      "source": "+ 1 Panda \n+ 2 NumPy\n+ 3 Matplotlib\n+ 4 Seaborn\n+ 5 Scikit-learn",
      "metadata": {}
    },
    {
      "cell_type": "markdown",
      "source": "|Data Science Tools|\n|------------------|\n|Git|\n|R|\n|Python|",
      "metadata": {}
    },
    {
      "cell_type": "markdown",
      "source": "<h3> Below are a few examples of evaluating arithmetic expressions in Python <h3>",
      "metadata": {}
    },
    {
      "cell_type": "code",
      "source": "# addition operation \n3 + 8 ",
      "metadata": {
        "trusted": true
      },
      "outputs": [
        {
          "execution_count": 7,
          "output_type": "execute_result",
          "data": {
            "text/plain": "11"
          },
          "metadata": {}
        }
      ],
      "execution_count": 7
    },
    {
      "cell_type": "code",
      "source": "# multiplication operation\n45 * 13",
      "metadata": {
        "trusted": true
      },
      "outputs": [
        {
          "execution_count": 8,
          "output_type": "execute_result",
          "data": {
            "text/plain": "585"
          },
          "metadata": {}
        }
      ],
      "execution_count": 8
    },
    {
      "cell_type": "markdown",
      "source": "This a simple arithmetic expression to mutiply then add integers",
      "metadata": {}
    },
    {
      "cell_type": "code",
      "source": "(3*4)+5",
      "metadata": {
        "trusted": true
      },
      "outputs": [
        {
          "execution_count": 9,
          "output_type": "execute_result",
          "data": {
            "text/plain": "17"
          },
          "metadata": {}
        }
      ],
      "execution_count": 9
    },
    {
      "cell_type": "markdown",
      "source": "This will convert 200 minutes to hours by diving by 60",
      "metadata": {}
    },
    {
      "cell_type": "code",
      "source": "200 / 60",
      "metadata": {
        "trusted": true
      },
      "outputs": [
        {
          "execution_count": 10,
          "output_type": "execute_result",
          "data": {
            "text/plain": "3.3333333333333335"
          },
          "metadata": {}
        }
      ],
      "execution_count": 10
    },
    {
      "cell_type": "markdown",
      "source": "<h2>Author<h2>",
      "metadata": {}
    },
    {
      "cell_type": "markdown",
      "source": "Adolfo Sanchez Montes ",
      "metadata": {}
    }
  ]
}